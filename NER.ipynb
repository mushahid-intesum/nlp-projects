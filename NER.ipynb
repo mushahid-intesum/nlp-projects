{
 "cells": [
  {
   "cell_type": "code",
   "execution_count": 1,
   "metadata": {},
   "outputs": [
    {
     "name": "stderr",
     "output_type": "stream",
     "text": [
      "/home/mushahid/.local/lib/python3.10/site-packages/tqdm/auto.py:21: TqdmWarning: IProgress not found. Please update jupyter and ipywidgets. See https://ipywidgets.readthedocs.io/en/stable/user_install.html\n",
      "  from .autonotebook import tqdm as notebook_tqdm\n"
     ]
    }
   ],
   "source": [
    "from transformers import AutoTokenizer, AutoModelForTokenClassification\n",
    "from transformers import pipeline\n",
    "\n",
    "# show NER results\n",
    "from spacy import displacy"
   ]
  },
  {
   "cell_type": "code",
   "execution_count": 2,
   "metadata": {},
   "outputs": [
    {
     "name": "stderr",
     "output_type": "stream",
     "text": [
      "Downloading (…)okenizer_config.json: 100%|██████████| 59.0/59.0 [00:00<00:00, 40.1kB/s]\n",
      "Downloading (…)lve/main/config.json: 100%|██████████| 829/829 [00:00<00:00, 323kB/s]\n",
      "Downloading (…)solve/main/vocab.txt: 100%|██████████| 213k/213k [00:00<00:00, 526kB/s]\n",
      "Downloading (…)in/added_tokens.json: 100%|██████████| 2.00/2.00 [00:00<00:00, 918B/s]\n",
      "Downloading (…)cial_tokens_map.json: 100%|██████████| 112/112 [00:00<00:00, 42.6kB/s]\n",
      "Downloading pytorch_model.bin: 100%|██████████| 433M/433M [02:01<00:00, 3.58MB/s] \n"
     ]
    }
   ],
   "source": [
    "tokenizer = AutoTokenizer.from_pretrained(\"dslim/bert-base-NER\")\n",
    "model = AutoModelForTokenClassification.from_pretrained(\"dslim/bert-base-NER\")\n",
    "pipe = pipeline(\"ner\", model=model, tokenizer=tokenizer)"
   ]
  },
  {
   "cell_type": "code",
   "execution_count": 3,
   "metadata": {},
   "outputs": [
    {
     "name": "stdout",
     "output_type": "stream",
     "text": [
      "[{'entity': 'B-PER', 'score': 0.9948801, 'index': 6, 'word': 'Max', 'start': 11, 'end': 14}]\n"
     ]
    }
   ],
   "source": [
    "text = \"Hello! I'm Max. I like manga and fried chicken.\"\n",
    "\n",
    "ner_results = pipe(text)\n",
    "print(ner_results)"
   ]
  },
  {
   "cell_type": "code",
   "execution_count": 4,
   "metadata": {},
   "outputs": [],
   "source": [
    "def from_ner_results_to_displacy(text, ner_results):\n",
    "  d_result = { \"text\": text, \"title\": None } \n",
    "  ents = []\n",
    "  current_entity = None\n",
    "  for ent in ner_results:\n",
    "    if \"B-\" in ent[\"entity\"]:\n",
    "      if current_entity != None:\n",
    "        ents.append(current_entity)\n",
    "      entity_label = ent[\"entity\"][2:]\n",
    "      current_entity = {\n",
    "        \"label\": entity_label,\n",
    "        \"start\": ent[\"start\"],\n",
    "        \"end\": ent[\"end\"]\n",
    "      }\n",
    "    if \"I-\" in ent[\"entity\"]:\n",
    "      current_entity[\"end\"] = ent[\"end\"]\n",
    "  if current_entity != None:\n",
    "    ents.append(current_entity)\n",
    "  d_result[\"ents\"] = ents\n",
    "  return d_result"
   ]
  },
  {
   "cell_type": "code",
   "execution_count": 6,
   "metadata": {},
   "outputs": [
    {
     "name": "stdout",
     "output_type": "stream",
     "text": [
      "{'text': \"Hello! I'm Max. I like manga and fried chicken.\", 'title': None, 'ents': [{'label': 'PER', 'start': 11, 'end': 14}]}\n"
     ]
    }
   ],
   "source": [
    "text = \"Hello! I'm Max. I like manga and fried chicken.\"\n",
    "ner_results = pipe(text)\n",
    "d_displacy = from_ner_results_to_displacy(text, ner_results)\n",
    "print(d_displacy)"
   ]
  },
  {
   "cell_type": "code",
   "execution_count": 7,
   "metadata": {},
   "outputs": [
    {
     "data": {
      "text/html": [
       "<span class=\"tex2jax_ignore\"><div class=\"entities\" style=\"line-height: 2.5; direction: ltr\">Hello! I'm \n",
       "<mark class=\"entity\" style=\"background: #ddd; padding: 0.45em 0.6em; margin: 0 0.25em; line-height: 1; border-radius: 0.35em;\">\n",
       "    Max\n",
       "    <span style=\"font-size: 0.8em; font-weight: bold; line-height: 1; border-radius: 0.35em; vertical-align: middle; margin-left: 0.5rem\">PER</span>\n",
       "</mark>\n",
       ". I like manga and fried chicken.</div></span>"
      ],
      "text/plain": [
       "<IPython.core.display.HTML object>"
      ]
     },
     "metadata": {},
     "output_type": "display_data"
    }
   ],
   "source": [
    "displacy.render(d_displacy, style=\"ent\", manual=True)"
   ]
  },
  {
   "cell_type": "code",
   "execution_count": null,
   "metadata": {},
   "outputs": [],
   "source": []
  }
 ],
 "metadata": {
  "kernelspec": {
   "display_name": "torch-env",
   "language": "python",
   "name": "python3"
  },
  "language_info": {
   "codemirror_mode": {
    "name": "ipython",
    "version": 3
   },
   "file_extension": ".py",
   "mimetype": "text/x-python",
   "name": "python",
   "nbconvert_exporter": "python",
   "pygments_lexer": "ipython3",
   "version": "3.10.11"
  },
  "orig_nbformat": 4
 },
 "nbformat": 4,
 "nbformat_minor": 2
}
